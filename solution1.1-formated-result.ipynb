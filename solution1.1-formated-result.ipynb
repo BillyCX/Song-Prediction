{
 "cells": [
  {
   "cell_type": "code",
   "execution_count": 91,
   "metadata": {},
   "outputs": [],
   "source": [
    "## Basic data, math, draw modules\n",
    "import pandas as pd\n",
    "import numpy as np\n",
    "from numpy import inf\n",
    "from enum import Enum \n",
    "import matplotlib.pyplot as plt\n",
    "\n",
    "## Machine learning methods modules\n",
    "import sklearn.linear_model as skl_lm\n",
    "import sklearn.discriminant_analysis as skl_da\n",
    "import sklearn.neighbors as skl_nb\n",
    "from sklearn.ensemble import AdaBoostClassifier\n",
    "from sklearn.tree import DecisionTreeClassifier\n",
    "from sklearn.ensemble import RandomForestClassifier\n",
    "\n",
    "## Stastic and evaluate model modules\n",
    "from sklearn import cross_validation\n",
    "from sklearn.metrics import classification_report\n",
    "from sklearn.metrics import accuracy_score\n",
    "from sklearn.cross_validation import train_test_split\n",
    "\n",
    "\n",
    "## Read the training data and testing data\n",
    "training_data = './training_data.csv'\n",
    "test_data = './songs_to_classify.csv'\n",
    "data = pd.read_csv(training_data)\n",
    "test_data = pd.read_csv(test_data)"
   ]
  },
  {
   "cell_type": "code",
   "execution_count": 92,
   "metadata": {},
   "outputs": [],
   "source": [
    "\n",
    "\n",
    "## To declare the types of model\n",
    "class models(Enum):\n",
    "    LR =  \"LR\"\n",
    "    KNN = \"KNN\"\n",
    "    QDA = \"QDA\"\n",
    "    LDA = \"LDA\"\n",
    "    ADA = \"ADA\"\n",
    "    RF =  \"RF\"\n",
    "\n",
    "\n",
    "## The function is used for selecting the model.  \n",
    "## \"arg\" name of model selection, \n",
    "## \"arg1\" is to set the corresponding parameter\n",
    "def model_selection(arg,arg1):\n",
    "    if arg==\"KNN\":\n",
    "        model=skl_nb.KNeighborsClassifier(n_neighbors=arg1)\n",
    "    if arg==\"LR\":\n",
    "        # tol: Tolerance for stopping criteria. \n",
    "        model=skl_lm.LogisticRegression(C=arg1,tol=1e-5)\n",
    "    if arg==\"QDA\":\n",
    "        model=skl_da.QuadraticDiscriminantAnalysis()\n",
    "    if arg==\"LDA\":\n",
    "        model = skl_da.LinearDiscriminantAnalysis()\n",
    "    if arg==\"ADA\":\n",
    "        # refer from the lecture notes chapter 6\n",
    "        # we tried from 4-13, and the best result jump between 5 to 8\n",
    "        # we preliminary set as 6.\n",
    "        tree=DecisionTreeClassifier(max_depth=6)\n",
    "        model=AdaBoostClassifier(base_estimator=tree, \\\n",
    "                                 n_estimators=arg1)\n",
    "    if arg==\"RF\":\n",
    "        model=RandomForestClassifier(n_estimators=arg1, random_state=7)\n",
    "        \n",
    "    model.fit(X_train,y_train)\n",
    "    \n",
    "    return model\n",
    "\n",
    "## To implement 5,7,10-fold cross validation to get the accuracy. \n",
    "## \"model\" used to set the type of the model\n",
    "## \"X_train,y_train\" input the training data and training data label.\n",
    "## \"argprint\"  to print out the accuary result or not.\n",
    "def own_crossvalidation(model,X_train,y_train,argprint):\n",
    "    scores10=cross_validation.cross_val_score(model, X_train,y_train, cv=10)\n",
    "    \n",
    "    scores7=cross_validation.cross_val_score(model, X_train,y_train, cv=7)\n",
    "    \n",
    "    scores5=cross_validation.cross_val_score(model, X_train,y_train, cv=5)\n",
    "    \n",
    "    if argprint==1:\n",
    "        print(\"10-fold Cross Validation Accuracy: %0.2f (+/- %0.2f)\"  \\\n",
    "               % (scores10.mean(), scores10.std() * 2))\n",
    "        print(\"7-fold Cross Validation Accuracy: %0.2f (+/- %0.2f)\" \\\n",
    "               % (scores7.mean(), scores7.std() * 2))\n",
    "        print(\"5-fold Cross Validation Accuracy: %0.2f (+/- %0.2f)\" \\\n",
    "               % (scores5.mean(), scores5.std() * 2))\n",
    "    \n",
    "    return (scores7.mean()+scores5.mean()+scores10.mean())/3 # return validation reuslt to tuning the parameters\n",
    "\n",
    "\n",
    "##  To evaluate the selected models by validation set and whole dataset\n",
    "## \"model\" used to set the type of the model\n",
    "def model_evaluation(model):\n",
    "    prediction = model.predict(X_test)\n",
    "    # use the whole dataset to evaluate\n",
    "    own_crossvalidation(model, data.loc[:,selected_predictor],data['label'],1)\n",
    "    print (' Test data accuracy：',model.score(X_test,y_test))\n",
    "\n",
    "    \n",
    "##  The function is to draw graph.    \n",
    "## \"xrange\" is data of x-axis. \"yrange\" is corresponding data of y-axis.\n",
    "## \"pointx, pointy\"  draw a dot in the graph.\n",
    "def plot(xrange,yrange,pointx, pointy):\n",
    "    plt.plot(pointx, pointy,'ro')\n",
    "    plt.plot(xrange, yrange)\n",
    "    plt.title('Accuracy for model')\n",
    "    plt.xlabel('parameter')\n",
    "    plt.ylabel('Accuracy')\n",
    "    plt.show()\n",
    "\n",
    "    \n",
    "##  To transform the data.    \n",
    "## \"data, test_data\" input the the data and test data we want to transfrom.\n",
    "## \"arg\" to set the predictor we want to transform\n",
    "def data_transform(data,test_data,arg):\n",
    "    if arg==\"acousticness\":\n",
    "        data['acousticness']=np.log(data['acousticness'])\n",
    "        test_data['acousticness']=np.log(test_data['acousticness'])\n",
    "    if arg==\"instrumentalness\":\n",
    "        data[\"instrumentalness\"]=np.log(data[\"instrumentalness\"])\n",
    "        data[\"instrumentalness\"]=data[\"instrumentalness\"].replace(-inf, -20)\n",
    "        test_data['instrumentalness']=np.log(test_data['instrumentalness'])\n",
    "        test_data['instrumentalness']=test_data['instrumentalness'].replace(-inf, -20)\n",
    "    if arg==\"speechiness\":\n",
    "        data['speechiness']=np.log(data['speechiness'])\n",
    "        test_data['speechiness']=np.log(test_data['speechiness'])\n",
    "    \n",
    "    return data,test_data\n",
    "\n",
    "##  To clean the data.    \n",
    "## \"data, test_data\" input the the data and test data we want to transfrom.\n",
    "## \"arg\" to set the predictor we want to clean\n",
    "def data_clean(data,test_data,arg):\n",
    "    selected_predictor = ['acousticness','danceability','duration', \\\n",
    "                           'energy','instrumentalness','key','liveness', \\\n",
    "                          'loudness','mode','speechiness','tempo', \\\n",
    "                          'time_signature','valence']\n",
    "    \n",
    "    if arg==\"speechiness\":\n",
    "        data=data.where(data['speechiness']<0.66).dropna()\n",
    "    if  arg==\"duration\":\n",
    "        data=data.where((data['duration']>=1*60*1000) \\\n",
    "                        & (data['duration']<=7*60*1000)).dropna()\n",
    "    if  arg==\"mode\":\n",
    "        selected_predictor = ['acousticness','danceability', \\\n",
    "                              'duration','energy','instrumentalness', \\\n",
    "                              'key','liveness','loudness','speechiness', \\\n",
    "                              'tempo','time_signature','valence']\n",
    "    \n",
    "    return data,test_data,selected_predictor   "
   ]
  },
  {
   "cell_type": "code",
   "execution_count": 93,
   "metadata": {
    "scrolled": false
   },
   "outputs": [
    {
     "name": "stderr",
     "output_type": "stream",
     "text": [
      "/home/billy/anaconda3/lib/python3.6/site-packages/ipykernel_launcher.py:85: RuntimeWarning: divide by zero encountered in log\n",
      "/home/billy/anaconda3/lib/python3.6/site-packages/ipykernel_launcher.py:87: RuntimeWarning: divide by zero encountered in log\n"
     ]
    }
   ],
   "source": [
    "## Data cleaning and transformed\n",
    "## Drop transform function to get the performance of origianl data\n",
    "data,test_data=data_transform(data,test_data,\"acousticness\")\n",
    "data,test_data=data_transform(data,test_data,\"instrumentalness\")\n",
    "data,test_data=data_transform(data,test_data,\"speechiness\")\n",
    "data,test_data,selected_predictor=data_clean(data,test_data,\"speechiness\")\n",
    "data,test_data,selected_predictor=data_clean(data,test_data,\"duration\")\n",
    "data,test_data,selected_predictor=data_clean(data,test_data,\"mode\")\n",
    "\n",
    "  # split the whole training set into training set 80%, validation set 20% \n",
    "X_train,X_test,y_train,y_test = train_test_split \\\n",
    "            (data.loc[:,selected_predictor],data['label'], \\\n",
    "             test_size=0.2, random_state = 0)\n",
    "  # the data without labeled, used for final solution\n",
    "final_test=test_data.loc[:,selected_predictor]"
   ]
  },
  {
   "cell_type": "code",
   "execution_count": 87,
   "metadata": {
    "scrolled": false
   },
   "outputs": [
    {
     "name": "stdout",
     "output_type": "stream",
     "text": [
      "best K is  9\n"
     ]
    },
    {
     "data": {
      "image/png": "[encoded data removed]",
      "text/plain": [
       "<Figure size 432x288 with 1 Axes>"
      ]
     },
     "metadata": {},
     "output_type": "display_data"
    }
   ],
   "source": [
    "# KNN Tune\n",
    "\n",
    "# used to score the model accuracy in the process of training\n",
    "clas_sco = []\n",
    "\n",
    "## Tune the parameter k -number of neighbors\n",
    "\n",
    "for k in range(300): \n",
    "    model=model_selection(models.KNN.value,k+1)\n",
    "    clas_sco.append(own_crossvalidation(model,X_train,y_train,None))\n",
    "    \n",
    "K = np.linspace(1, 300, 300)\n",
    "# the list index begin wiht 0, our variable begin with 1.\n",
    "print('best K is ', clas_sco.index(max(clas_sco))+1)\n",
    "plot(K,clas_sco,clas_sco.index \\\n",
    "         (max(clas_sco)),clas_sco[clas_sco.index(max(clas_sco))])"
   ]
  },
  {
   "cell_type": "code",
   "execution_count": null,
   "metadata": {
    "scrolled": true
   },
   "outputs": [],
   "source": [
    "# LR Tune\n",
    "\n",
    "clas_sco = []\n",
    "\n",
    "## Tune the parameter C -inverse of regularization strength\n",
    "\n",
    "ParaC=0.1\n",
    "for k in range(50):\n",
    "    model=model_selection(models.LR.value,ParaC)\n",
    "    clas_sco.append(own_crossvalidation(model,X_train,y_train,None))\n",
    "    ParaC=ParaC+0.1\n",
    "    \n",
    "K = np.linspace(0.1, 5, 50)\n",
    "print('best C is ', 0.1*(clas_sco.index(max(clas_sco))+1))\n",
    "plot(K,clas_sco,0.1*clas_sco.index \\\n",
    "         (max(clas_sco))+0.1,clas_sco[clas_sco.index(max(clas_sco))])"
   ]
  },
  {
   "cell_type": "code",
   "execution_count": null,
   "metadata": {
    "scrolled": false
   },
   "outputs": [],
   "source": [
    "# Tune RF\n",
    "\n",
    "clas_sco = []\n",
    "\n",
    "## Tune the parameter \n",
    "## n_estimator-The number of trees in the forest.\n",
    "c=10\n",
    "for k in range(30):\n",
    "    model=model_selection(models.RF.value,c)\n",
    "    clas_sco.append(own_crossvalidation(model,X_train,y_train,None))\n",
    "    c=c+10\n",
    "    \n",
    "K = np.linspace(10, 300, 30)\n",
    "print('best estimators is ', 10*(clas_sco.index(max(clas_sco))+1))\n",
    "plot(K,clas_sco,10*clas_sco.index(max(clas_sco))+10, \\\n",
    "         clas_sco[clas_sco.index(max(clas_sco))])"
   ]
  },
  {
   "cell_type": "code",
   "execution_count": 88,
   "metadata": {},
   "outputs": [
    {
     "name": "stdout",
     "output_type": "stream",
     "text": [
      "best estimators is  1400\n"
     ]
    },
    {
     "data": {
      "image/png": "[encoded data removed]",
      "text/plain": [
       "<Figure size 432x288 with 1 Axes>"
      ]
     },
     "metadata": {},
     "output_type": "display_data"
    }
   ],
   "source": [
    "## Tune ADA\n",
    "\n",
    "clas_sco = []\n",
    "\n",
    "## Tune the parameter n_estimator\n",
    "## n_estimator -The maximum number of estimators at which boosting is terminated. \n",
    "\n",
    "c=100\n",
    "for k in range(20):\n",
    "    model=model_selection(models.ADA.value,c)  \n",
    "    clas_sco.append(own_crossvalidation(model,X_train,y_train,None))\n",
    "    c=c+100\n",
    "\n",
    "K = np.linspace(100, 2000, 20)\n",
    "print('best estimators is ', 100*(clas_sco.index(max(clas_sco))+1))\n",
    "plot(K,clas_sco,100*clas_sco.index(max(clas_sco))+100, \\\n",
    "         clas_sco[clas_sco.index(max(clas_sco))])\n"
   ]
  },
  {
   "cell_type": "code",
   "execution_count": 98,
   "metadata": {},
   "outputs": [
    {
     "name": "stdout",
     "output_type": "stream",
     "text": [
      "best estimators is  5\n"
     ]
    },
    {
     "data": {
      "image/png": "[encoded data removed]",
      "text/plain": [
       "<Figure size 432x288 with 1 Axes>"
      ]
     },
     "metadata": {},
     "output_type": "display_data"
    }
   ],
   "source": [
    "## Tune depth\n",
    "\n",
    "clas_sco = []\n",
    "\n",
    "## Tune the parameter max_depth-number of max depth of tree\n",
    "\n",
    "c=4\n",
    "for k in range(10):\n",
    "    tree=DecisionTreeClassifier(max_depth=c)\n",
    "    model=AdaBoostClassifier(base_estimator=tree,n_estimators=100)\n",
    "    clas_sco.append(own_crossvalidation(model,X_train,y_train,None))\n",
    "    c=c+1\n",
    "\n",
    "K = np.linspace(4, 13, 10)\n",
    "print('best estimators is ', 1*(clas_sco.index(max(clas_sco))+4))\n",
    "plot(K,clas_sco,1*clas_sco.index(max(clas_sco))+4, \\\n",
    "         clas_sco[clas_sco.index(max(clas_sco))])"
   ]
  },
  {
   "cell_type": "code",
   "execution_count": 100,
   "metadata": {
    "scrolled": false
   },
   "outputs": [
    {
     "name": "stdout",
     "output_type": "stream",
     "text": [
      "ALL LIKE\n",
      " Test data accuracy： 0.6032608695652174\n",
      "KNN\n",
      "10-fold Cross Validation Accuracy: 0.57 (+/- 0.11)\n",
      "7-fold Cross Validation Accuracy: 0.57 (+/- 0.08)\n",
      "5-fold Cross Validation Accuracy: 0.56 (+/- 0.07)\n",
      " Test data accuracy： 0.5743243243243243\n",
      "LR\n",
      "10-fold Cross Validation Accuracy: 0.80 (+/- 0.07)\n",
      "7-fold Cross Validation Accuracy: 0.79 (+/- 0.06)\n",
      "5-fold Cross Validation Accuracy: 0.79 (+/- 0.04)\n",
      " Test data accuracy： 0.8040540540540541\n",
      "LDA\n",
      "10-fold Cross Validation Accuracy: 0.80 (+/- 0.08)\n",
      "7-fold Cross Validation Accuracy: 0.80 (+/- 0.04)\n",
      "5-fold Cross Validation Accuracy: 0.81 (+/- 0.06)\n",
      " Test data accuracy： 0.7702702702702703\n",
      "QDA\n",
      "10-fold Cross Validation Accuracy: 0.79 (+/- 0.10)\n",
      "7-fold Cross Validation Accuracy: 0.79 (+/- 0.06)\n",
      "5-fold Cross Validation Accuracy: 0.77 (+/- 0.04)\n",
      " Test data accuracy： 0.7094594594594594\n",
      "RF\n",
      "10-fold Cross Validation Accuracy: 0.84 (+/- 0.07)\n",
      "7-fold Cross Validation Accuracy: 0.84 (+/- 0.05)\n",
      "5-fold Cross Validation Accuracy: 0.85 (+/- 0.03)\n",
      " Test data accuracy： 0.8108108108108109\n",
      "ADA\n",
      "10-fold Cross Validation Accuracy: 0.85 (+/- 0.07)\n",
      "7-fold Cross Validation Accuracy: 0.85 (+/- 0.06)\n",
      "5-fold Cross Validation Accuracy: 0.85 (+/- 0.04)\n",
      " Test data accuracy： 0.8581081081081081\n",
      "[0. 0. 0. 1. 0. 0. 0. 1. 0. 0. 1. 1. 0. 1. 1. 0. 1. 1. 1. 1. 1. 0. 1. 1.\n",
      " 0. 0. 0. 0. 1. 1. 1. 1. 0. 1. 1. 1. 1. 1. 0. 1. 0. 1. 0. 1. 1. 1. 0. 1.\n",
      " 1. 0. 0. 0. 1. 1. 0. 1. 1. 0. 0. 0. 1. 1. 1. 0. 0. 1. 1. 1. 1. 0. 1. 1.\n",
      " 1. 1. 1. 1. 0. 1. 1. 0. 1. 1. 0. 1. 1. 1. 1. 1. 0. 0. 1. 0. 0. 1. 1. 0.\n",
      " 1. 1. 1. 1. 1. 1. 1. 0. 0. 1. 0. 1. 1. 1. 1. 1. 1. 0. 1. 0. 1. 0. 1. 0.\n",
      " 0. 1. 1. 0. 1. 1. 1. 0. 1. 0. 1. 0. 1. 1. 1. 1. 1. 1. 1. 1. 1. 0. 1. 0.\n",
      " 1. 1. 0. 0. 1. 0. 1. 1. 0. 0. 1. 1. 1. 1. 1. 0. 1. 1. 0. 1. 1. 1. 1. 1.\n",
      " 1. 1. 1. 1. 1. 0. 0. 1. 1. 0. 1. 0. 1. 0. 1. 1. 1. 1. 1. 0. 1. 0. 0. 1.\n",
      " 1. 1. 1. 1. 0. 1. 1. 1.]\n"
     ]
    }
   ],
   "source": [
    "## Use whole training dataset to test the performance of each model\n",
    "## Evaluated by k-fold crossvalidation\n",
    "## All LIKE is to output all \"1\" to check the accuracy\n",
    "\n",
    "# All LIKE\n",
    "print(\"ALL LIKE\")\n",
    "print(' Test data accuracy：',accuracy_score \\\n",
    "      (data['label'],np.full([len(data['label']),1], 1)))\n",
    "\n",
    "\n",
    "# KNN\n",
    "print(\"KNN\")\n",
    "model=model_selection(models.KNN.value,9)\n",
    "model_evaluation(model)\n",
    "\n",
    "# LR\n",
    "print(\"LR\")\n",
    "model=model_selection(models.LR.value,1.6) \n",
    "model_evaluation(model)\n",
    "\n",
    "# LDA\n",
    "print(\"LDA\")\n",
    "model=model_selection(models.LDA.value,None)\n",
    "model_evaluation(model)\n",
    "\n",
    "# QDA\n",
    "print(\"QDA\")\n",
    "model=model_selection(models.QDA.value,None)\n",
    "model_evaluation(model)\n",
    "\n",
    "# RF\n",
    "print(\"RF\")\n",
    "model=model_selection(models.RF.value,200)\n",
    "model_evaluation(model)\n",
    "\n",
    "# ADA\n",
    "print(\"ADA\")\n",
    "model=model_selection(models.ADA.value,1400)#1400#700\n",
    "model_evaluation(model)\n",
    "\n",
    "## Output the final soltion by RF\n",
    "print (model.predict(final_test))"
   ]
  },
  {
   "cell_type": "code",
   "execution_count": null,
   "metadata": {},
   "outputs": [],
   "source": []
  },
  {
   "cell_type": "code",
   "execution_count": null,
   "metadata": {},
   "outputs": [],
   "source": []
  }
 ],
 "metadata": {
  "kernelspec": {
   "display_name": "Python 3",
   "language": "python",
   "name": "python3"
  },
  "language_info": {
   "codemirror_mode": {
    "name": "ipython",
    "version": 3
   },
   "file_extension": ".py",
   "mimetype": "text/x-python",
   "name": "python",
   "nbconvert_exporter": "python",
   "pygments_lexer": "ipython3",
   "version": "3.6.5"
  }
 },
 "nbformat": 4,
 "nbformat_minor": 2
}
